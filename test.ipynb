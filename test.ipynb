{
 "cells": [
  {
   "cell_type": "code",
   "execution_count": 1,
   "metadata": {},
   "outputs": [],
   "source": [
    "import numpy as np\n",
    "import pandas as pd\n",
    "import matplotlib.pyplot as plt\n",
    "%matplotlib inline\n",
    "\n",
    "import torch\n",
    "from torch import nn\n",
    "import torch.nn.functional as F"
   ]
  },
  {
   "cell_type": "code",
   "execution_count": 2,
   "metadata": {},
   "outputs": [],
   "source": [
    "hotel_1 = pd.read_csv('H1.csv',parse_dates=True,index_col='ReservationStatusDate')\n",
    "hotel_2 = pd.read_csv('H2.csv',parse_dates=True,index_col='ReservationStatusDate')"
   ]
  },
  {
   "cell_type": "code",
   "execution_count": 3,
   "metadata": {},
   "outputs": [],
   "source": [
    "hotel_1 = hotel_1.replace(to_replace = '       NULL', \n",
    "                 value =np.NAN) \n",
    "hotel_2 = hotel_2.replace(to_replace = '       NULL', \n",
    "                 value =np.NAN) "
   ]
  },
  {
   "cell_type": "code",
   "execution_count": 4,
   "metadata": {},
   "outputs": [],
   "source": [
    "# Drop Company and Agent from both hotel_1 & hotel_2 datasets\n",
    "hotel_1 = hotel_1.drop(['Agent','Company'],axis=1)\n",
    "hotel_2 = hotel_2.drop(['Agent','Company'],axis=1)\n",
    "\n",
    "# Fill NA values using Most frequently occuring value in that column\n",
    "hotel_1['Country'] = hotel_1['Country'].fillna(hotel_1['Country'].mode()[0])\n",
    "\n",
    "hotel_2['Country'] = hotel_2['Country'].fillna(hotel_2['Country'].mode()[0])\n",
    "hotel_2['Children'] = hotel_2['Children'].fillna(hotel_2['Children'].mode()[0])"
   ]
  },
  {
   "cell_type": "code",
   "execution_count": 5,
   "metadata": {},
   "outputs": [],
   "source": [
    "# drop arrival date month\n",
    "hotel_1 = hotel_1.drop(['ArrivalDateMonth'],axis=1)\n",
    "hotel_2 = hotel_2.drop(['ArrivalDateMonth'],axis=1)\n",
    "\n",
    "# drop arrival date day of month\n",
    "hotel_1 = hotel_1.drop(['ArrivalDateDayOfMonth'],axis=1)\n",
    "hotel_2 = hotel_2.drop(['ArrivalDateDayOfMonth'],axis=1)\n",
    "\n",
    "# drop reservation status\n",
    "hotel_1 = hotel_1.drop(['ReservationStatus'],axis=1)\n",
    "hotel_2 = hotel_2.drop(['ReservationStatus'],axis=1)"
   ]
  },
  {
   "cell_type": "code",
   "execution_count": 6,
   "metadata": {},
   "outputs": [],
   "source": [
    "hotel_1['AssignNewRoom'] = 0\n",
    "# check if the reserved room type is different from assigned room type\n",
    "hotel_1.loc[hotel_1['ReservedRoomType'] != hotel_1['AssignedRoomType'], 'AssignNewRoom'] = 1\n",
    "# drop older features\n",
    "hotel_1 = hotel_1.drop(['AssignedRoomType', 'ReservedRoomType'], axis=1)"
   ]
  },
  {
   "cell_type": "code",
   "execution_count": 7,
   "metadata": {},
   "outputs": [],
   "source": [
    "# replacing 1 by True and 0 by False for treatment and outcome features\n",
    "hotel_1['AssignNewRoom'] = hotel_1['AssignNewRoom'].replace({1: True, 0: False})\n",
    "hotel_1['IsCanceled'] = hotel_1['IsCanceled'].replace({1: True, 0: False})"
   ]
  },
  {
   "cell_type": "code",
   "execution_count": 8,
   "metadata": {},
   "outputs": [],
   "source": [
    "t = torch.tensor(hotel_1['AssignNewRoom'].values, dtype=torch.float32).reshape(-1,1)\n",
    "y = torch.tensor(hotel_1['IsCanceled'].values, dtype=torch.float32).reshape(-1,1)\n",
    "concat_true = torch.cat((y,t),1)\n",
    "w = torch.tensor(hotel_1['BookingChanges'].values, dtype=torch.float32).reshape(-1,1)"
   ]
  },
  {
   "cell_type": "code",
   "execution_count": 9,
   "metadata": {},
   "outputs": [],
   "source": [
    "g = torch.Generator().manual_seed(42)\n",
    "np.random.seed(42)"
   ]
  },
  {
   "cell_type": "code",
   "execution_count": 10,
   "metadata": {},
   "outputs": [
    {
     "data": {
      "text/plain": [
       "1"
      ]
     },
     "execution_count": 10,
     "metadata": {},
     "output_type": "execute_result"
    }
   ],
   "source": [
    "10 % 3"
   ]
  },
  {
   "cell_type": "code",
   "execution_count": 11,
   "metadata": {},
   "outputs": [],
   "source": [
    "from models import tarnet"
   ]
  },
  {
   "cell_type": "code",
   "execution_count": 12,
   "metadata": {},
   "outputs": [
    {
     "name": "stdout",
     "output_type": "stream",
     "text": [
      "Iteration 0 loss: 12.239068031311035\n",
      "Iteration 100 loss: 5.073991298675537\n",
      "Iteration 200 loss: 6.283305644989014\n",
      "Iteration 300 loss: 5.797115325927734\n",
      "Iteration 400 loss: 5.619232177734375\n",
      "Iteration 500 loss: 4.334939002990723\n",
      "Iteration 600 loss: 6.6093339920043945\n",
      "Iteration 700 loss: 6.332919120788574\n",
      "Iteration 800 loss: 5.219549655914307\n",
      "Iteration 900 loss: 4.644416809082031\n",
      "Iteration 1000 loss: 6.156187057495117\n",
      "Iteration 1100 loss: 5.482533931732178\n",
      "Iteration 1200 loss: 6.653475284576416\n",
      "Iteration 1300 loss: 6.527281284332275\n",
      "Iteration 1400 loss: 6.960143089294434\n",
      "Iteration 1500 loss: 5.749301433563232\n",
      "Iteration 1600 loss: 4.6785197257995605\n",
      "Iteration 1700 loss: 7.3059234619140625\n",
      "Iteration 1800 loss: 6.570338249206543\n",
      "Iteration 1900 loss: 6.236927509307861\n",
      "Iteration 2000 loss: 6.022600173950195\n"
     ]
    },
    {
     "data": {
      "text/plain": [
       "-0.23259851336479187"
      ]
     },
     "execution_count": 12,
     "metadata": {},
     "output_type": "execute_result"
    }
   ],
   "source": [
    "ate = tarnet.estimate(\n",
    "    treatment = t,\n",
    "    outcome = y,\n",
    "    confounders = w,\n",
    ")\n",
    "ate"
   ]
  },
  {
   "cell_type": "code",
   "execution_count": 13,
   "metadata": {},
   "outputs": [],
   "source": [
    "# -0.2538311183452606\n",
    "# 12.284306526184082"
   ]
  }
 ],
 "metadata": {
  "kernelspec": {
   "display_name": "base",
   "language": "python",
   "name": "python3"
  },
  "language_info": {
   "codemirror_mode": {
    "name": "ipython",
    "version": 3
   },
   "file_extension": ".py",
   "mimetype": "text/x-python",
   "name": "python",
   "nbconvert_exporter": "python",
   "pygments_lexer": "ipython3",
   "version": "3.8.12"
  },
  "orig_nbformat": 4,
  "vscode": {
   "interpreter": {
    "hash": "d9d613e2bad48afc30a0f02411d4ddbdef562e5f50cb253b53607d5e36ae8e70"
   }
  }
 },
 "nbformat": 4,
 "nbformat_minor": 2
}
